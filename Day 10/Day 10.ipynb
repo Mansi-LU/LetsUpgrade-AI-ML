{
 "cells": [
  {
   "cell_type": "markdown",
   "metadata": {},
   "source": [
    "# 10 Hypothesis based on Day 7 HR data set. "
   ]
  },
  {
   "attachments": {},
   "cell_type": "markdown",
   "metadata": {},
   "source": [
    "\n",
    "### Note- Here, H0 and Ha refers to the Null and the Alternate hypothesis, respectively. \n",
    "\n",
    "#### 1\tMore males encountered attrition than females.\n",
    "\tH0: µ_male > µ_female\n",
    "\tHa: µ_male <= µ_female\n",
    "#### 2\tAverage age for attrition is 34 yrs.\n",
    "\tH0: µ= 34\n",
    "\tHa: µ≠ 34\n",
    "#### 3\tDistance from home has no effect on attrition.\n",
    "\tH0: Travelling distance from home to work is not correlated with attrition\n",
    "\tHa: Travelling distance from home to work is correlated with attrition\n",
    "#### 4\t50% of the times single people are more likely to get fired or leave company.\n",
    "\tH0: µ>= 0.5 \n",
    "\tHa: µ< 0.5\n",
    "#### 5\tEmpoyee having job-level less than or equal to level-2 have are more likely to leave.\n",
    "\tH0: µ<= 2\n",
    "\tHa: µ> 2\n",
    "#### 6\tEmployees from educational feild of Life sciences are at least 40% vulnerable to attrition.\n",
    "\tH0: µ>= 0.4\n",
    "\tHa: µ< 0.4\n",
    "#### 7\tEmployee with average work experience of 7 years is encountered with attrition\n",
    "\tH0: µ=  8\n",
    "\tHa: µ≠ 8\n",
    "#### 8\tEmployees with less than 15% salary hike left jobs.\n",
    "\tH0: µ<= 0.15\n",
    "\tHa: µ> 0.15\n",
    "#### 9\tEmployees with stock level of more than or equal to 2 are more likely to leave.\n",
    "\tH0: µ>= 2\n",
    "\tHa: µ< 2\n",
    "#### 10\tMore employees from HR department are subjected to attrition.\n",
    "\tH0: Employees in HR department are more likely to leave\n",
    "\tHa: Employees in HR department are more likely to stay in the company."
   ]
  },
  {
   "cell_type": "code",
   "execution_count": null,
   "metadata": {},
   "outputs": [],
   "source": []
  }
 ],
 "metadata": {
  "kernelspec": {
   "display_name": "Python 3",
   "language": "python",
   "name": "python3"
  },
  "language_info": {
   "codemirror_mode": {
    "name": "ipython",
    "version": 3
   },
   "file_extension": ".py",
   "mimetype": "text/x-python",
   "name": "python",
   "nbconvert_exporter": "python",
   "pygments_lexer": "ipython3",
   "version": "3.7.6"
  }
 },
 "nbformat": 4,
 "nbformat_minor": 4
}
