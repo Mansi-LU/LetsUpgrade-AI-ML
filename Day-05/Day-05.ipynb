{
 "cells": [
  {
   "cell_type": "markdown",
   "metadata": {},
   "source": [
    "#Question 1 :\n",
    "Write a Python program to find the first 20 non-even prime natural numbers.\n",
    "\n",
    "                "
   ]
  },
  {
   "cell_type": "code",
   "execution_count": 212,
   "metadata": {},
   "outputs": [
    {
     "name": "stdout",
     "output_type": "stream",
     "text": [
      "3 5 7 11 13 17 19 23 29 31 37 41 43 47 53 59 61 67 71 73 "
     ]
    }
   ],
   "source": [
    "def first_20_prime(num):\n",
    "    count=0\n",
    "    for i in range(1,(num//2)+1):\n",
    "        if num%i==0:\n",
    "            count+=1\n",
    "            \n",
    "    if count==1:\n",
    "        return True\n",
    "    else:\n",
    "        return False\n",
    "\n",
    "\n",
    "limit=0\n",
    "for item in range(3,100):\n",
    "    if first_20_prime(item):\n",
    "        limit+=1\n",
    "        print(item,end=\" \")\n",
    "    if limit==20:\n",
    "        break"
   ]
  },
  {
   "cell_type": "markdown",
   "metadata": {},
   "source": [
    "#Question 2 :\n",
    "Write a Python program to implement 15 functions of string.\n"
   ]
  },
  {
   "cell_type": "code",
   "execution_count": 231,
   "metadata": {},
   "outputs": [
    {
     "name": "stdout",
     "output_type": "stream",
     "text": [
      "1  Hello cra1world\n",
      "2  hello cra1world\n",
      "3  apple***magic\n",
      "4  hello cra1world\n",
      "5  6\n",
      "6  False\n",
      "7  False\n",
      "8  False\n",
      "9  HELLO CRA1WORLD\n",
      "10  HElLO CRA1WOrLD\n",
      "11  ['heLlo cra1', 'oRld']\n",
      "12        Hello  stranger!, how are you?   \n",
      "13  Hello how are you?, how are you?\n",
      "14  2\n",
      "15  41\n"
     ]
    }
   ],
   "source": [
    "string= \"heLlo cra1woRld\"\n",
    "print('1 ',string.capitalize() )#Converts the first character to upper case\n",
    "print('2 ', string.casefold()) #Converts string into lower case\n",
    "print('3 ', \"***\".join(['apple', \"magic\"]))#Joins strings by a specified argument.\n",
    "print('4 ', string.lower())#Sets the tab size of the string\n",
    "print('5 ', string.index('cr'))#Searches the string for a specified value and returns the position of where it was found\n",
    "print('6 ',string.isalnum()) #Returns True if all characters in the string are alphanumeric\n",
    "print('7 ', string.isalpha()) #Returns True if all characters in the string are in the alphabet\n",
    "print('8 ', string.endswith('o')) #Returns true if the string ends with the specified value\n",
    "print('9 ', string.upper()) #Returns upper case value\n",
    "print('10 ', string.swapcase()) #Swaps upper with an lower cases. \n",
    "string_2= '      Hello how are you?, how are you?   '\n",
    "print('11 ', string.split('w')) # COnverts the string into a list of words contained in a string. We can specify how.\n",
    "print('12 ', string_2.replace('how are you?', ' stranger!', 1))  #Replace an old value with a new one and we can specify how many times.\n",
    "print('13 ', string_2.strip()) #Works like trim fucntion\n",
    "print('14 ', string_2.count('you')) #Returns the count of occurrences of a specified string.\n",
    "print('15 ', len(string_2)) #Returns the lenght of a string."
   ]
  },
  {
   "cell_type": "markdown",
   "metadata": {},
   "source": [
    "#Question 3:\n",
    "Write a Python program to check if the given string is a Palindrome or Anagram or None of them.\n",
    "Display the message accordingly to the user.\n"
   ]
  },
  {
   "cell_type": "code",
   "execution_count": 51,
   "metadata": {},
   "outputs": [
    {
     "name": "stdout",
     "output_type": "stream",
     "text": [
      "No -<< happy  >>- is not a Palindormic string\n",
      "Yes -<< wow  >>- is a Palindromic string\n",
      "Yes -<< happy & hppya  >>- are Anagram strings\n",
      "No -<< wow & dog1, arg2  >>- are not Anagram strings\n"
     ]
    }
   ],
   "source": [
    "#Palindrome\n",
    "def palindrome(arg):\n",
    "        if arg == arg[::-1]:\n",
    "            print(\"Yes -<<\", arg, ' >>- is a Palindromic string')\n",
    "        else:\n",
    "            print('No -<<', arg, ' >>- is not a Palindormic string')\n",
    "\n",
    "palindrome('happy')\n",
    "palindrome('wow')\n",
    "\n",
    "#Anagram\n",
    "def anagram(arg1, arg2):\n",
    "        if sorted(arg1) == sorted(arg2):\n",
    "            print(\"Yes -<<\", arg1,'&', arg2, ' >>- are Anagram strings')\n",
    "        else:\n",
    "            print('No -<<', arg1,'&',arg2 ,' >>- are not Anagram strings')\n",
    "\n",
    "anagram('happy', \"hppya\")\n",
    "anagram('wow', \"dog1, arg2\")\n"
   ]
  },
  {
   "cell_type": "markdown",
   "metadata": {},
   "source": [
    "#Question 4: \n",
    "Write a Python's user defined function that removes all the additional characters from the string and converts it finally to lower case using built-in lower(). eg: If the string is \"Dr. Darshan Ingle @AI-ML Trainer\", then the output be \"drdarshaningleaimltrainer\"."
   ]
  },
  {
   "cell_type": "code",
   "execution_count": 92,
   "metadata": {},
   "outputs": [],
   "source": [
    "def bring(string):\n",
    "    list= 'abcdefghijklmnopqrstuvwxyzABCDEFGHIJKLMNOPQRSTUVWXYZ0123456789'\n",
    "    new_string= ''\n",
    "    for i in string:\n",
    "        if i not in list:\n",
    "            continue\n",
    "        if i in list:\n",
    "            new_string= new_string+ i\n",
    "            new_string1= new_string.lower()\n",
    "    print(new_string1)"
   ]
  },
  {
   "cell_type": "code",
   "execution_count": 230,
   "metadata": {},
   "outputs": [
    {
     "name": "stdout",
     "output_type": "stream",
     "text": [
      "yesmaisinthethu\n"
     ]
    }
   ],
   "source": [
    "bring('yes @ma is in the %thu')"
   ]
  }
 ],
 "metadata": {
  "kernelspec": {
   "display_name": "Python 3",
   "language": "python",
   "name": "python3"
  },
  "language_info": {
   "codemirror_mode": {
    "name": "ipython",
    "version": 3
   },
   "file_extension": ".py",
   "mimetype": "text/x-python",
   "name": "python",
   "nbconvert_exporter": "python",
   "pygments_lexer": "ipython3",
   "version": "3.7.6"
  }
 },
 "nbformat": 4,
 "nbformat_minor": 4
}
