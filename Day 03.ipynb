{
 "cells": [
  {
   "cell_type": "markdown",
   "metadata": {},
   "source": [
    "#Question 1 :\n",
    "___Write a program to subtract two complex numbers in Python___"
   ]
  },
  {
   "cell_type": "code",
   "execution_count": 16,
   "metadata": {},
   "outputs": [
    {
     "data": {
      "text/plain": [
       "(-3+4j)"
      ]
     },
     "execution_count": 16,
     "metadata": {},
     "output_type": "execute_result"
    }
   ],
   "source": [
    "a= 3+ 5j\n",
    "b= 6+ 1j\n",
    "diff= a-b\n",
    "diff"
   ]
  },
  {
   "cell_type": "markdown",
   "metadata": {},
   "source": [
    "#Question 2 :\n",
    "___Write a program to find the fourth root of a number.___\n"
   ]
  },
  {
   "cell_type": "code",
   "execution_count": 17,
   "metadata": {},
   "outputs": [
    {
     "name": "stdout",
     "output_type": "stream",
     "text": [
      "10.0\n"
     ]
    }
   ],
   "source": [
    "a= 10000\n",
    "print(a**(1/4))"
   ]
  },
  {
   "cell_type": "markdown",
   "metadata": {},
   "source": [
    "#Question 3:\n",
    "___Write a program to swap two numbers in Python with the help of a temporary variable.___\n"
   ]
  },
  {
   "cell_type": "code",
   "execution_count": 7,
   "metadata": {},
   "outputs": [
    {
     "data": {
      "text/plain": [
       "(8, 9)"
      ]
     },
     "execution_count": 7,
     "metadata": {},
     "output_type": "execute_result"
    }
   ],
   "source": [
    "\n",
    "def swap(x, y):\n",
    "    temp= x\n",
    "    x= y\n",
    "    y = temp\n",
    "    return (x, y)\n",
    "swap(9,8)"
   ]
  },
  {
   "cell_type": "markdown",
   "metadata": {},
   "source": [
    "#Question 4: ___Write a program to swap two numbers in Python without using a temporary variable.___\n"
   ]
  },
  {
   "cell_type": "code",
   "execution_count": 9,
   "metadata": {},
   "outputs": [
    {
     "name": "stdout",
     "output_type": "stream",
     "text": [
      "x= 10 y= 9\n"
     ]
    }
   ],
   "source": [
    "x= 9\n",
    "y= 10 \n",
    "print('x=', y, 'y=', x)"
   ]
  },
  {
   "cell_type": "markdown",
   "metadata": {},
   "source": [
    "#Question 5:\n",
    "___Write a program to convert fahrenheit to kelvin and celsius both.___\n"
   ]
  },
  {
   "cell_type": "code",
   "execution_count": 43,
   "metadata": {},
   "outputs": [
    {
     "name": "stdout",
     "output_type": "stream",
     "text": [
      "-14 C\n",
      "259 K\n"
     ]
    }
   ],
   "source": [
    "Fahrenheit= 6\n",
    "Celsius = round((5/9) * (Fahrenheit- 32))\n",
    "print(Celsius, \"C\")\n",
    "Kelvin = round(Celsius+ 273.15)\n",
    "print(Kelvin, \"K\")"
   ]
  },
  {
   "cell_type": "markdown",
   "metadata": {},
   "source": [
    "#Question 6:\n",
    "___Write a program to demonstrate all the available data types in Python. Hint: Use type() function.___\n"
   ]
  },
  {
   "cell_type": "code",
   "execution_count": 35,
   "metadata": {
    "scrolled": true
   },
   "outputs": [
    {
     "name": "stdout",
     "output_type": "stream",
     "text": [
      "type of a is  <class 'int'>\n",
      "type of b is  <class 'float'>\n",
      "type of c is  <class 'complex'>\n",
      "type of d is  <class 'str'>\n",
      "type of e is  <class 'bool'>\n",
      "type of f is  <class 'list'>\n",
      "type of g is  <class 'set'>\n",
      "type of h is  <class 'tuple'>\n",
      "type of i is  <class 'dict'>\n"
     ]
    }
   ],
   "source": [
    "a= 6\n",
    "b= 6.0\n",
    "c= 6+8j\n",
    "d= 'mansi'\n",
    "e= True\n",
    "f= [1,2,3]\n",
    "g= {1,2,3}\n",
    "h= (1,2,3)\n",
    "i= {1:'LU', 2:'AI'}\n",
    "\n",
    "print('type of a is ',type(a))\n",
    "print('type of b is ',type(b))\n",
    "print('type of c is ',type(c))\n",
    "print('type of d is ',type(d))\n",
    "print('type of e is ',type(e))\n",
    "print('type of f is ',type(f))\n",
    "print('type of g is ',type(g))\n",
    "print('type of h is ',type(h))\n",
    "print('type of i is ',type(i))\n",
    "\n",
    "    "
   ]
  },
  {
   "cell_type": "markdown",
   "metadata": {},
   "source": [
    "#Question 7:\n",
    "___Create a Markdown cell in jupyter and list the steps discussed in the session by Dr. Darshan\n",
    "Ingle sir to create Github profile and upload Githubs Assignment link.___"
   ]
  },
  {
   "cell_type": "markdown",
   "metadata": {},
   "source": [
    "Here are the discussed steps:\n",
    "\n",
    "1. Create a Github public repo and name it LetsUpgrade AI/ML.\n",
    "2. Upload the files/solution in the repo in day wise manner.\n",
    "3. Copy the URL of the Folder of that day and paste in the Assignment Submission Form (Google Form)\n",
    "4. Make sure you are filling correct details in the Assignment Submission Form.\n",
    "5. All the drop-downs will be available till the week end only. i.e Previous weeks drop-down will disappear on each Sunday 11:59 PM\n",
    "6. You have to submit all the assignment given during the weekdays by respective SUNDAY 11:59 PM IST."
   ]
  }
 ],
 "metadata": {
  "kernelspec": {
   "display_name": "Python 3",
   "language": "python",
   "name": "python3"
  },
  "language_info": {
   "codemirror_mode": {
    "name": "ipython",
    "version": 3
   },
   "file_extension": ".py",
   "mimetype": "text/x-python",
   "name": "python",
   "nbconvert_exporter": "python",
   "pygments_lexer": "ipython3",
   "version": "3.7.6"
  }
 },
 "nbformat": 4,
 "nbformat_minor": 4
}
